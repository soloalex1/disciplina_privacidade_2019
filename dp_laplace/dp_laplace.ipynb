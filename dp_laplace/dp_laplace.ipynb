{
 "cells": [
  {
   "cell_type": "code",
   "execution_count": 1,
   "metadata": {},
   "outputs": [],
   "source": [
    "import numpy as np\n",
    "import pandas as pd\n",
    "from scipy.stats import laplace\n",
    "import math\n",
    "\n",
    "data = pd.read_csv('dados/adult.csv')"
   ]
  },
  {
   "cell_type": "markdown",
   "metadata": {},
   "source": [
    "## Consultas"
   ]
  },
  {
   "cell_type": "code",
   "execution_count": 2,
   "metadata": {},
   "outputs": [],
   "source": [
    "# Q1: Média do atributo age\n",
    "def consulta1(data):\n",
    "    return data.age.mean()\n",
    "    \n",
    "# Q2: Somatório do atributo capital-gain\n",
    "def consulta2(data):\n",
    "    return data.capitalgain.sum()\n",
    "\n",
    "# Q3: Média do atributo hours-per-week\n",
    "def consulta3(data):\n",
    "    return data.hoursperweek.mean()\n",
    "\n",
    "# Q4: Quantidade de pessoas com salário maior que 50K\n",
    "def consulta4(data):\n",
    "    salario_alto = 0\n",
    "    for i in range(len(data.index)):\n",
    "        if data.loc[i, 'class'] == '>50K':\n",
    "            salario_alto += 1\n",
    "#     print(\"Pessoas com salário alto: \" + str(salario_alto))\n",
    "#     print()\n",
    "    return salario_alto"
   ]
  },
  {
   "cell_type": "markdown",
   "metadata": {},
   "source": [
    "## Resposta com ruído"
   ]
  },
  {
   "cell_type": "code",
   "execution_count": 3,
   "metadata": {},
   "outputs": [],
   "source": [
    "def resposta_ruido(data, consulta, budget, sens):\n",
    "    res = consulta(data)\n",
    "    ruido = laplace.rvs(loc=0, scale=sens/budget)\n",
    "    print(\"Resposta com ruído: \" + str(ruido + res))\n",
    "    return ruido + res"
   ]
  },
  {
   "cell_type": "markdown",
   "metadata": {},
   "source": [
    "## Obtendo sensibilidades"
   ]
  },
  {
   "cell_type": "code",
   "execution_count": 4,
   "metadata": {},
   "outputs": [],
   "source": [
    "# sensibilidade da primeira consulta\n",
    "def sense_q1(data):\n",
    "    aux = data.copy()\n",
    "    max_val = data.age.max()\n",
    "    for i in range(len(aux.index)):\n",
    "        if(aux.loc[i, 'age'] == max_val):\n",
    "            aux = aux.drop(i)\n",
    "            break\n",
    "    return abs(max_val - consulta1(aux))\n",
    "\n",
    "\n",
    "# sensibilidade da segunda consulta\n",
    "def sense_q2(data):\n",
    "    aux = data.copy()\n",
    "    max_val = data.capitalgain.max()\n",
    "    for i in range(len(aux.index)):\n",
    "        if(aux.loc[i, 'capitalgain'] == max_val):\n",
    "            aux = aux.drop(i)\n",
    "            break\n",
    "    return abs(max_val - consulta2(aux))\n",
    "\n",
    "\n",
    "# sensibilidade da terceira consulta\n",
    "def sense_q3(data):\n",
    "    aux = data.copy()\n",
    "    max_val = data.hoursperweek.max()\n",
    "    for i in range(len(aux.index)):\n",
    "        if(aux.loc[i, 'hoursperweek'] == max_val):\n",
    "            aux = aux.drop(i)\n",
    "            break\n",
    "    return abs(max_val - consulta3(aux))\n",
    "\n",
    "## a quarta consulta sempre terá sensibilidade 1"
   ]
  },
  {
   "cell_type": "markdown",
   "metadata": {},
   "source": [
    "## Gerando CSV"
   ]
  },
  {
   "cell_type": "code",
   "execution_count": 5,
   "metadata": {},
   "outputs": [],
   "source": [
    "def gerar_csv(budgets, res, sens):\n",
    "    resultado = []\n",
    "    for i in range(0, len(budgets)):\n",
    "        reg = [budgets[i]]\n",
    "        \n",
    "        for j in range(0, len(res[i])):\n",
    "            reg.append(res[i][j])\n",
    "            \n",
    "        for k in range(0, len(sens)):\n",
    "            reg.append(sens[k])\n",
    "            \n",
    "        resultado.append(reg)\n",
    "    resultado = pd.DataFrame(resultado, columns=['budget', 'result_q1', 'result_q2', 'result_q3', 'result_q4', 'sens_q1', 'sens_q2', 'sens_q3', 'sens_q4'])\n",
    "    resultado.to_csv('saida/result.csv', index=False)"
   ]
  },
  {
   "cell_type": "markdown",
   "metadata": {},
   "source": [
    "## Execução"
   ]
  },
  {
   "cell_type": "code",
   "execution_count": 6,
   "metadata": {},
   "outputs": [],
   "source": [
    "budgets = [0.1, 1, 10]\n",
    "consultas = [consulta1, consulta2, consulta3, consulta4]\n",
    "sensibilidades = [sense_q1(data), sense_q2(data), sense_q3(data), 1]\n",
    "\n",
    "# Função principal\n",
    "def dp_laplace(data, budgets, consultas, sens):\n",
    "    print(\"Budgets: \" + str(budgets))\n",
    "    print(\"Consultas: \" + str(consultas))\n",
    "    print(\"Sensibilidades: \" + str(sens))\n",
    "    resultado = []\n",
    "    for b in budgets:\n",
    "        res_budget = []\n",
    "        for i in range(0, len(consultas)):\n",
    "            # adicionando a resposta com ruído às respostas de cada budget\n",
    "            res_budget.append(resposta_ruido(data, consultas[i], b / len(consultas), sens[i]))\n",
    "        resultado.append(res_budget)\n",
    "    gerar_csv(budgets, resultado, sens)"
   ]
  },
  {
   "cell_type": "code",
   "execution_count": 7,
   "metadata": {},
   "outputs": [
    {
     "name": "stdout",
     "output_type": "stream",
     "text": [
      "Chamando a função principal!\n",
      "Budgets: [0.1, 1, 10]\n",
      "Consultas: [<function consulta1 at 0x0A128270>, <function consulta2 at 0x0A116660>, <function consulta3 at 0x0A116348>, <function consulta4 at 0x0A116FA8>]\n",
      "Sensibilidades: [2.2289674658586023, 9776, 2.0493437890297086, 1]\n",
      "Resposta com ruído: -89.12973900394579\n",
      "Resposta com ruído: -353720.9090440271\n",
      "Resposta com ruído: 58.48616852744399\n",
      "Resposta com ruído: 11673.460913205892\n",
      "Resposta com ruído: -2.113048190302327\n",
      "Resposta com ruído: -62459.675011628424\n",
      "Resposta com ruído: 14.424712488244687\n",
      "Resposta com ruído: 11684.931533232217\n",
      "Resposta com ruído: 1.9074482681953324\n",
      "Resposta com ruído: 7911.209127249522\n",
      "Resposta com ruído: 1.8191367767727513\n",
      "Resposta com ruído: 11687.873069125002\n"
     ]
    }
   ],
   "source": [
    "dp_laplace(data, budgets, consultas, sensibilidades)"
   ]
  },
  {
   "cell_type": "code",
   "execution_count": null,
   "metadata": {},
   "outputs": [],
   "source": []
  },
  {
   "cell_type": "code",
   "execution_count": null,
   "metadata": {},
   "outputs": [],
   "source": []
  }
 ],
 "metadata": {
  "kernelspec": {
   "display_name": "Python 3",
   "language": "python",
   "name": "python3"
  },
  "language_info": {
   "codemirror_mode": {
    "name": "ipython",
    "version": 3
   },
   "file_extension": ".py",
   "mimetype": "text/x-python",
   "name": "python",
   "nbconvert_exporter": "python",
   "pygments_lexer": "ipython3",
   "version": "3.7.4"
  }
 },
 "nbformat": 4,
 "nbformat_minor": 2
}
