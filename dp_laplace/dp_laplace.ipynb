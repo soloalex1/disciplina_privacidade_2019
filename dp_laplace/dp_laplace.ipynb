{
 "cells": [
  {
   "cell_type": "code",
   "execution_count": 1,
   "metadata": {},
   "outputs": [],
   "source": [
    "import numpy as np\n",
    "import pandas as pd\n",
    "from scipy.stats import laplace\n",
    "import math\n",
    "import statistics\n",
    "\n",
    "data = np.array(pd.read_csv('dados/adult.csv'))"
   ]
  },
  {
   "cell_type": "markdown",
   "metadata": {},
   "source": [
    "## Consultas"
   ]
  },
  {
   "cell_type": "code",
   "execution_count": 2,
   "metadata": {},
   "outputs": [],
   "source": [
    "# Q1: Média do atributo age\n",
    "def consulta1(data):\n",
    "    idades = []\n",
    "    for i in range(0, len(data)):\n",
    "        idades.append(data[i][0])\n",
    "    print(\"Média das idades: \" + str(statistics.mean(idades)))\n",
    "    return statistics.mean(idades)\n",
    "    \n",
    "# Q2: Somatório do atributo capital-gain\n",
    "def consulta2(data):\n",
    "    capital_gain = []\n",
    "    for i in range(0, len(data)):\n",
    "        capital_gain.append(data[i][10])\n",
    "    print(\"Soma do capital: \" + str(sum(capital_gain)))\n",
    "    return sum(capital_gain)\n",
    "\n",
    "# Q3: Média do atributo hours-per-week\n",
    "def consulta3(data):\n",
    "    horas = []\n",
    "    for i in range(0, len(data)):\n",
    "        horas.append(data[i][12])\n",
    "    print(\"Média das horas: \" + str(statistics.mean(horas)))\n",
    "    return statistics.mean(horas)\n",
    "\n",
    "# Q4: Quantidade de pessoas com salário maior que 50K\n",
    "def consulta4(data):\n",
    "    salario_alto = 0\n",
    "    for i in range(0, len(data)):\n",
    "        if data[i][14] == '>50K':\n",
    "            salario_alto += 1\n",
    "    print(\"Pessoas com salário alto: \" + str(salario_alto))\n",
    "    print()\n",
    "    return salario_alto"
   ]
  },
  {
   "cell_type": "markdown",
   "metadata": {},
   "source": [
    "## Resposta com ruído"
   ]
  },
  {
   "cell_type": "code",
   "execution_count": 3,
   "metadata": {},
   "outputs": [],
   "source": [
    "def resposta_ruido(data, consulta, budget, sens):\n",
    "    is_priv = False\n",
    "    ruido = 0\n",
    "    res = consulta(data)\n",
    "    prob = laplace.pdf(0, loc=0, scale=sens / budget)\n",
    "    while(not is_priv):\n",
    "        ruido = laplace.rvs(loc=0, scale=sens / budget)\n",
    "        res = res + ruido\n",
    "        prob_ruido = laplace.pdf(ruido, loc=0, scale=sens / budget)\n",
    "        if(prob <= ((math.e ** budget) * prob_ruido)):\n",
    "            is_priv = True\n",
    "            ruido = res\n",
    "    return ruido"
   ]
  },
  {
   "cell_type": "markdown",
   "metadata": {},
   "source": [
    "## Obtendo sensibilidades"
   ]
  },
  {
   "cell_type": "code",
   "execution_count": 4,
   "metadata": {},
   "outputs": [],
   "source": [
    "def get_sense(consultas, data):\n",
    "    query = []\n",
    "    sense = []\n",
    "    \n",
    "    # adicionando as chamadas num array interno\n",
    "    for c in consultas:\n",
    "        query.append(c(data))\n",
    "        \n",
    "    # processando os atributos de um registro\n",
    "    for reg in range(0, data.shape[0]):\n",
    "        data_viz = np.copy(data)\n",
    "        data_viz = np.delete(data_viz, reg, 0)\n",
    "        for i in range(0, len(consultas)):\n",
    "            res = consultas[i](data_viz)\n",
    "            sens = abs(query[i] - res)\n",
    "            sense.append(sens)\n",
    "    return sense"
   ]
  },
  {
   "cell_type": "markdown",
   "metadata": {},
   "source": [
    "## Gerando CSV"
   ]
  },
  {
   "cell_type": "code",
   "execution_count": 5,
   "metadata": {},
   "outputs": [],
   "source": [
    "def gerar_csv(budgets, res, sens):\n",
    "    resultado = []\n",
    "    for i in range(0, len(budgets)):\n",
    "        reg = [budgets[i]]\n",
    "        \n",
    "        for j in range(0, len(res[i])):\n",
    "            reg.append(res[i][j])\n",
    "            \n",
    "        for j in range(0, len(sens)):\n",
    "            reg.append(sens[j])\n",
    "            \n",
    "        resultado.append(reg)\n",
    "    final_set = pd.DataFrame(datasetFinal, columns=['budget', 'result_q1', 'result_q2', 'result_q3', 'result_q4', 'sens_q1', 'sens_q2', 'sens_q3', 'sens_q4'])\n",
    "    final_set.to_csv(r'saida/result.csv', index=False)"
   ]
  },
  {
   "cell_type": "markdown",
   "metadata": {},
   "source": [
    "## Execução"
   ]
  },
  {
   "cell_type": "code",
   "execution_count": 6,
   "metadata": {}, 
   "source": [
    "budgets = [0.1, 1, 10]\n",
    "consultas = [consulta1, consulta2, consulta3, consulta4]\n",
    "sensibilidades = get_sense(consultas, data)\n",
    "\n",
    "# Função principal\n",
    "def dp_laplace(data, budgets, consultas, sens):\n",
    "    println(\"Budgets: \" + str(budgets))\n",
    "    println(\"Consultas: \" + str(consultas))\n",
    "    println(\"Sensibilidades: \" + str(sens))\n",
    "    resultado = []\n",
    "    for b in budgets:\n",
    "        res_budget = []\n",
    "        for i in range(0, len(consultas)):\n",
    "            # adicionando a resposta com ruído às respostas de cada budget",
    "            res_budget.append(resposta_ruido(data, consultas[i], b / len(consultas), sens[i]))\n",
    "        resultado.append(res_budget)\n",
    "    gerar_csv(budget, resultado, sens)\n",
    "    \n",
    "dp_laplace(data, budgets, consultas, sensibilidades)"
   ]
  },
  {
   "cell_type": "code",
   "execution_count": null,
   "metadata": {},
   "outputs": [],
   "source": []
  }
 ],
 "metadata": {
  "kernelspec": {
   "display_name": "Python 3",
   "language": "python",
   "name": "python3"
  },
  "language_info": {
   "codemirror_mode": {
    "name": "ipython",
    "version": 3
   },
   "file_extension": ".py",
   "mimetype": "text/x-python",
   "name": "python",
   "nbconvert_exporter": "python",
   "pygments_lexer": "ipython3",
   "version": "3.7.4"
  }
 },
 "nbformat": 4,
 "nbformat_minor": 2
}
