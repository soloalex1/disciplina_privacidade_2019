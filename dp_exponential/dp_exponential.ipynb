{
 "cells": [
  {
   "cell_type": "code",
   "execution_count": 15,
   "metadata": {},
   "outputs": [
    {
     "data": {
      "text/plain": [
       "'country'"
      ]
     },
     "execution_count": 15,
     "metadata": {},
     "output_type": "execute_result"
    }
   ],
   "source": [
    "import numpy as np\n",
    "import pandas as pd\n",
    "\n",
    "data = pd.read_csv(r'dados/movie_metadata.csv')\n",
    "\n",
    "data.columns[20]"
   ]
  },
  {
   "cell_type": "markdown",
   "metadata": {},
   "source": [
    "# Consultas"
   ]
  },
  {
   "cell_type": "code",
   "execution_count": 4,
   "metadata": {
    "scrolled": true
   },
   "outputs": [
    {
     "data": {
      "text/html": [
       "<div>\n",
       "<style scoped>\n",
       "    .dataframe tbody tr th:only-of-type {\n",
       "        vertical-align: middle;\n",
       "    }\n",
       "\n",
       "    .dataframe tbody tr th {\n",
       "        vertical-align: top;\n",
       "    }\n",
       "\n",
       "    .dataframe thead th {\n",
       "        text-align: right;\n",
       "    }\n",
       "</style>\n",
       "<table border=\"1\" class=\"dataframe\">\n",
       "  <thead>\n",
       "    <tr style=\"text-align: right;\">\n",
       "      <th></th>\n",
       "      <th>movie_title</th>\n",
       "    </tr>\n",
       "  </thead>\n",
       "  <tbody>\n",
       "    <tr>\n",
       "      <td>USA</td>\n",
       "      <td>3711</td>\n",
       "    </tr>\n",
       "    <tr>\n",
       "      <td>UK</td>\n",
       "      <td>434</td>\n",
       "    </tr>\n",
       "    <tr>\n",
       "      <td>France</td>\n",
       "      <td>154</td>\n",
       "    </tr>\n",
       "  </tbody>\n",
       "</table>\n",
       "</div>"
      ],
      "text/plain": [
       "        movie_title\n",
       "USA            3711\n",
       "UK              434\n",
       "France          154"
      ]
     },
     "execution_count": 4,
     "metadata": {},
     "output_type": "execute_result"
    }
   ],
   "source": [
    "# Consulta 1: Filme com a maior arrecadação\n",
    "def consulta1(data):\n",
    "    aux = data[['movie_title', 'gross'][:]].dropna()\n",
    "    return pd.DataFrame(aux.loc[aux.gross.idxmax()])\n",
    "\n",
    "# Consulta 2: Filme com maior arrecadação para cada idioma\n",
    "def consulta2(data):\n",
    "    aux = data[['language', 'movie_title', 'gross'][:]].dropna()\n",
    "    return aux.reindex(labels=aux.groupby('language').gross.idxmax(), axis=\"index\")\n",
    "\n",
    "# Consulta 3: Top 3 países com a maior quantidade de filmes\n",
    "def consulta3(data):\n",
    "    result = []\n",
    "    aux = data[['country', 'movie_title'][:]].dropna()\n",
    "    country_list = aux.groupby('country').movie_title.nunique().to_frame()\n",
    "    for i in range(3):\n",
    "        result.append(country_list.loc[country_list.movie_title.idxmax()])\n",
    "        country_list = country_list.drop(country_list.movie_title.idxmax())\n",
    "    return pd.DataFrame(result)\n",
    "\n",
    "# consulta1(data)\n",
    "# consulta2(data)\n",
    "# consulta3(data)"
   ]
  },
  {
   "cell_type": "markdown",
   "metadata": {},
   "source": [
    "# Funções Score"
   ]
  },
  {
   "cell_type": "code",
   "execution_count": 8,
   "metadata": {},
   "outputs": [],
   "source": [
    "def score1(data, out):\n",
    "    values = []\n",
    "    for i in data:\n",
    "        if(i.movie_title != 'None' and not np.isnan(i.gross)):\n",
    "            if(i.gross == out):\n",
    "                values.append(i.gross)\n",
    "            else:\n",
    "                values.append(0)\n",
    "    return values\n",
    "\n",
    "def score2(data, out):\n",
    "    values = []\n",
    "    for i in data:\n",
    "        if(i in out and not np.isnan(i.gross)):\n",
    "            values.append(i.gross)\n",
    "        else:\n",
    "            values.append(0)\n",
    "    return values\n",
    "\n",
    "def score3(data, out):\n",
    "    data_countries = data.country.dropna().array\n",
    "    countries = []\n",
    "    for i in range(0, len(data_countries)):\n",
    "        if(data_countries[i] not in countries):\n",
    "            countries[data_countries[i]] = 0\n",
    "#     for i in data:\n",
    "    #\n",
    "    return countries"
   ]
  },
  {
   "cell_type": "code",
   "execution_count": null,
   "metadata": {},
   "outputs": [],
   "source": []
  }
 ],
 "metadata": {
  "kernelspec": {
   "display_name": "Python 3",
   "language": "python",
   "name": "python3"
  },
  "language_info": {
   "codemirror_mode": {
    "name": "ipython",
    "version": 3
   },
   "file_extension": ".py",
   "mimetype": "text/x-python",
   "name": "python",
   "nbconvert_exporter": "python",
   "pygments_lexer": "ipython3",
   "version": "3.7.4"
  }
 },
 "nbformat": 4,
 "nbformat_minor": 2
}
