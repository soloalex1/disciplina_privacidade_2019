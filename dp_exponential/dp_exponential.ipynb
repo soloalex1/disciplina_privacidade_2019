{
 "cells": [
  {
   "cell_type": "code",
   "execution_count": 1,
   "metadata": {},
   "outputs": [
    {
     "name": "stdout",
     "output_type": "stream",
     "text": [
      "8: gross\n",
      "9: genres\n",
      "10: actor_1_name\n",
      "11: movie_title\n",
      "12: num_voted_users\n",
      "13: cast_total_facebook_likes\n",
      "14: actor_3_name\n",
      "15: facenumber_in_poster\n",
      "16: plot_keywords\n",
      "17: movie_imdb_link\n",
      "18: num_user_for_reviews\n",
      "19: language\n",
      "20: country\n"
     ]
    }
   ],
   "source": [
    "import numpy as np\n",
    "import pandas as pd\n",
    "from itertools import combinations\n",
    "from scipy.stats import expon\n",
    "\n",
    "data = pd.read_csv(r'dados/movie_metadata.csv')\n",
    "budgets = [0.1, 1, 10]\n",
    "\n",
    "data.drop_duplicates()\n",
    "for i in range(8, 21):\n",
    "    print(str(i) + \": \" + str(data.columns[i]))\n",
    "# data.head()"
   ]
  },
  {
   "cell_type": "markdown",
   "metadata": {},
   "source": [
    "# Consultas"
   ]
  },
  {
   "cell_type": "code",
   "execution_count": 2,
   "metadata": {
    "scrolled": true
   },
   "outputs": [],
   "source": [
    "# Consulta 1: Filme com a maior arrecadação\n",
    "def consulta1(data):\n",
    "    aux = data[['movie_title', 'gross'][:]].dropna()\n",
    "    return aux.loc[aux.gross.idxmax()]\n",
    "\n",
    "# Consulta 2: Filme com maior arrecadação para cada idioma\n",
    "def consulta2(data):\n",
    "    aux = data[['movie_title', 'language', 'gross'][:]].dropna()\n",
    "    return aux.loc[aux.groupby('language').gross.idxmax()]\n",
    "\n",
    "# Consulta 3: Top 3 países com a maior quantidade de filmes\n",
    "def consulta3(data):\n",
    "    result = []\n",
    "    aux = data[['country', 'movie_title'][:]].dropna()\n",
    "    country_list = aux.groupby('country')['movie_title'].nunique().to_frame()\n",
    "    country_list['country'] = country_list.index # o índice se perde ao agrupar\n",
    "    country_list.reset_index(drop=True, inplace=True)\n",
    "    for i in range(3):\n",
    "        result.append(country_list.loc[country_list.movie_title.idxmax()])\n",
    "        country_list = country_list.drop(country_list.movie_title.idxmax())\n",
    "    return pd.DataFrame(result)"
   ]
  },
  {
   "cell_type": "markdown",
   "metadata": {},
   "source": [
    "# Funções Score"
   ]
  },
  {
   "cell_type": "code",
   "execution_count": 3,
   "metadata": {},
   "outputs": [],
   "source": [
    "def score1(item, out):\n",
    "    score = 0\n",
    "    if(not np.isnan(item.gross) and item.movie_title != 'None'):\n",
    "        if(item.movie_title == out):\n",
    "            score = item.gross\n",
    "    return score\n",
    "\n",
    "def score2(item, out):\n",
    "    score = 0\n",
    "    if(item.movie_title in out and not np.isnan(item.gross)):\n",
    "        score = item.gross\n",
    "    return score\n",
    "\n",
    "def score3(data, item, out):\n",
    "    score = 0\n",
    "    total_countries = data.country.array\n",
    "    country_list = {}\n",
    "    for i in range(0, len(total_countries)):\n",
    "        if total_countries[i] not in country_list:\n",
    "            country_list[total_countries[i]] = 0\n",
    "            \n",
    "    for i in range(0, len(data)):\n",
    "        if type(data.iloc[i].country != float):\n",
    "            country_list[data.iloc[i].country] += 1\n",
    "    if item.country in out:\n",
    "        score = country_list[item.country]\n",
    "    return score"
   ]
  },
  {
   "cell_type": "markdown",
   "metadata": {},
   "source": [
    "# Funções de sensibilidade"
   ]
  },
  {
   "cell_type": "code",
   "execution_count": null,
   "metadata": {},
   "outputs": [],
   "source": [
    "def sense_q1(data):\n",
    "    mat = []\n",
    "    sense = 0\n",
    "    results = data[['movie_title'][:]]\n",
    "    for i in range(0, len(results)):\n",
    "        mat.append(score1(data.iloc[i], results.iloc[i].movie_title))\n",
    "        \n",
    "    for i in range(0, len(mat) - 1):\n",
    "        sense = max([sense, abs(mat[i] - mat[i + 1])])\n",
    "    return sense\n",
    "\n",
    "def sense_q2(data):\n",
    "    mat = []\n",
    "    sense = 0\n",
    "    results = data[['movie_title', 'language', 'gross'][:]]\n",
    "    for i in range(0, len(results)):\n",
    "        mat.append(score2(results.iloc[i], data.iloc[i].movie_title))\n",
    "    \n",
    "    for i in range(0, len(mat) - 1):\n",
    "        sense = max([sense, abs(mat[i] - mat[i + 1])])\n",
    "    return sense\n",
    "\n",
    "def sense_q3(data):\n",
    "    sense = 0\n",
    "    country_list = []\n",
    "    mat = []\n",
    "    for i in range(0, len(data)):\n",
    "        if(data.iloc[i].country not in country_list and data.iloc[i].country != 'None'):\n",
    "            country_list.append(data.iloc[i].country)\n",
    "    results = list(combinations(country_list, 3))\n",
    "    \n",
    "    for r in range(0, len(results)):\n",
    "        mat.append(score3(data, data.iloc[r], results[r]))\n",
    "\n",
    "    for i in range(0, len(mat) - 1):\n",
    "        sense = max([sense, abs(mat[i] - mat[i + 1])])\n",
    "    return sense\n",
    "\n",
    "sense_q3(data)"
   ]
  },
  {
   "cell_type": "markdown",
   "metadata": {},
   "source": [
    "# Mecanismo Exponencial"
   ]
  },
  {
   "cell_type": "code",
   "execution_count": null,
   "metadata": {},
   "outputs": [],
   "source": []
  },
  {
   "cell_type": "markdown",
   "metadata": {},
   "source": [
    "# Randomização de consultas"
   ]
  },
  {
   "cell_type": "code",
   "execution_count": null,
   "metadata": {},
   "outputs": [],
   "source": []
  },
  {
   "cell_type": "markdown",
   "metadata": {},
   "source": [
    "# Execução"
   ]
  },
  {
   "cell_type": "code",
   "execution_count": null,
   "metadata": {},
   "outputs": [],
   "source": [
    "# TODO"
   ]
  }
 ],
 "metadata": {
  "kernelspec": {
   "display_name": "Python 3",
   "language": "python",
   "name": "python3"
  },
  "language_info": {
   "codemirror_mode": {
    "name": "ipython",
    "version": 3
   },
   "file_extension": ".py",
   "mimetype": "text/x-python",
   "name": "python",
   "nbconvert_exporter": "python",
   "pygments_lexer": "ipython3",
   "version": "3.7.4"
  }
 },
 "nbformat": 4,
 "nbformat_minor": 2
}
