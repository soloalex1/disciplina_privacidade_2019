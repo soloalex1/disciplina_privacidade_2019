{
 "cells": [
  {
   "cell_type": "code",
   "execution_count": null,
   "metadata": {},
   "outputs": [],
   "source": [
    "import numpy as np\n",
    "import pandas as pd\n",
    "from itertools import combinations\n",
    "import random\n",
    "import math\n",
    "\n",
    "data = pd.read_csv(r'dados/movie_metadata.csv')\n",
    "budgets = [0.1, 1, 10]\n",
    "\n",
    "# não roda no meu note, tentei reduzir a quantidade de entradas só pra ver se tava gerando o CSV\n",
    "def drop_null(data):\n",
    "    data = data.drop_duplicates()\n",
    "    # itera com duas flags em dataframes, pra índice e elemento\n",
    "    for i, j in data.iterrows():\n",
    "        if(math.isnan(j['gross']) or type(j['language']) == float):\n",
    "            data = data.drop(i)\n",
    "    return data[:1000]\n",
    "\n",
    "data = drop_null(data)\n",
    "data.head(10)"
   ]
  },
  {
   "cell_type": "markdown",
   "metadata": {},
   "source": [
    "# Consultas"
   ]
  },
  {
   "cell_type": "code",
   "execution_count": 2,
   "metadata": {
    "scrolled": true
   },
   "outputs": [],
   "source": [
    "# Consulta 1: Filme com a maior arrecadação\n",
    "def consulta1(data):\n",
    "    aux = data[['movie_title', 'gross'][:]]\n",
    "    return aux.loc[aux.gross.idxmax()]\n",
    "\n",
    "# Consulta 2: Filme com maior arrecadação para cada idioma\n",
    "def consulta2(data):\n",
    "    aux = data[['movie_title', 'language', 'gross'][:]]\n",
    "    return aux.loc[aux.groupby('language').gross.idxmax()]\n",
    "\n",
    "# Consulta 3: Top 3 países com a maior quantidade de filmes\n",
    "def consulta3(data):\n",
    "    result = []\n",
    "    aux = data[['country', 'movie_title'][:]]\n",
    "    country_list = aux.groupby('country')['movie_title'].nunique().to_frame()\n",
    "    country_list['country'] = country_list.index # o índice se perde ao agrupar\n",
    "    country_list.reset_index(drop=True, inplace=True)\n",
    "    for i in range(3):\n",
    "        result.append(country_list.loc[country_list.movie_title.idxmax()])\n",
    "        country_list = country_list.drop(country_list.movie_title.idxmax())\n",
    "    return pd.DataFrame(result)"
   ]
  },
  {
   "cell_type": "markdown",
   "metadata": {},
   "source": [
    "# Funções Score"
   ]
  },
  {
   "cell_type": "code",
   "execution_count": 3,
   "metadata": {},
   "outputs": [],
   "source": [
    "def score1(item, out):\n",
    "    score = 0\n",
    "    if(not np.isnan(item.gross) and item.movie_title != 'None'):\n",
    "        if(item.movie_title == out):\n",
    "            score = item.gross\n",
    "    return score\n",
    "\n",
    "# o score da segunda consulta é igual ao da primeira\n",
    "\n",
    "def score3(data, item, out):\n",
    "    score = 0\n",
    "    country_list = data.country.array\n",
    "    countries = {}\n",
    "    for i in range(0, len(country_list)):\n",
    "        if(country_list[i] not in countries):\n",
    "            countries[country_list[i]] = 0\n",
    "    for i in range(0, len(data)):\n",
    "        countries[data.iloc[i].country] += 1\n",
    "    if(item.country == out):\n",
    "        score = countries[item.country]\n",
    "    return score"
   ]
  },
  {
   "cell_type": "markdown",
   "metadata": {},
   "source": [
    "# Funções de sensibilidade"
   ]
  },
  {
   "cell_type": "code",
   "execution_count": 4,
   "metadata": {},
   "outputs": [],
   "source": [
    "def sense_q1(data):\n",
    "    mat = []\n",
    "    sense = 0\n",
    "    results = data[['movie_title'][:]]\n",
    "    for i in range(0, len(results)):\n",
    "        mat.append(score1(data.iloc[i], results.iloc[i].movie_title))\n",
    "        \n",
    "    for i in range(0, len(mat) - 1):\n",
    "        sense = max([sense, abs(mat[i] - mat[i + 1])])\n",
    "    return sense\n",
    "\n",
    "# como os dois scores são iguais, a função de sensibilidade pode ser a mesma\n",
    "\n",
    "def sense_q3(data):\n",
    "    sense = 0\n",
    "    country_list = []\n",
    "    mat = []\n",
    "    for i in range(0, len(data)):\n",
    "        if(data.iloc[i].country not in country_list and data.iloc[i].country != 'None'):\n",
    "            country_list.append(data.iloc[i].country)\n",
    "    results = list(combinations(country_list, 3))\n",
    "    \n",
    "    for r in range(0, len(results)):\n",
    "        mat.append(score3(data, data.iloc[r], results[r]))\n",
    "\n",
    "    for i in range(0, len(mat) - 1):\n",
    "        sense = max([sense, abs(mat[i] - mat[i + 1])])\n",
    "    return sense"
   ]
  },
  {
   "cell_type": "markdown",
   "metadata": {},
   "source": [
    "# Randomização de consultas"
   ]
  },
  {
   "cell_type": "code",
   "execution_count": 5,
   "metadata": {},
   "outputs": [],
   "source": [
    "def rand_q1(budget, sense, data):\n",
    "    outputs = data.movie_title\n",
    "    probs = []\n",
    "    pk = []\n",
    "    k = np.arange(len(data))\n",
    "    \n",
    "    for i in outputs:\n",
    "        row = []\n",
    "        for j in range(0, len(data)):\n",
    "            num = np.exp(budget * score1(data.iloc[j], i) / (2 * sense))\n",
    "            den = 0\n",
    "            for k in outputs:\n",
    "                den += np.exp(budget * score1(data.iloc[j], k) / (2 * sense))\n",
    "            row.append(num / den)\n",
    "        i += 1\n",
    "        probs.append(row)\n",
    "        \n",
    "    for i in probs:\n",
    "        pk.append(np.sum(i) / np.sum(probs))\n",
    "    return data[stats.rv_discrete(name='dist', values=(k, pk)).rvs(), 11]\n",
    "\n",
    "    \n",
    "def rand_q2(budget, sense, data):\n",
    "    out = []\n",
    "    lang = np.unique(data.language)\n",
    "    clusters = len(lang) * [[]]\n",
    "    for i in range(0, len(lang)):\n",
    "        clang = []\n",
    "        for j in range(0, len(data)):\n",
    "            if(data.language == lang[i]):\n",
    "                clang.append(data.iloc[j])\n",
    "                clusters[i] = clang\n",
    "    for i in clang:\n",
    "        out.append(rand_q1(budget, sense, np.array(i)))\n",
    "    return out\n",
    "\n",
    "\n",
    "def rand_q3(budget, sense, data):\n",
    "    budget /= 3\n",
    "    probs = []\n",
    "    pk = []\n",
    "    rand = []\n",
    "    out = np.unique(data.country)\n",
    "    k = np.arange(len(out))\n",
    "    \n",
    "    for i in out:\n",
    "        row = []\n",
    "        for j in range(0, len(data)):\n",
    "            num = np.exp(budget * score3(data.iloc[j], i) / (2 * sense))\n",
    "            den = 0\n",
    "            for k in out:\n",
    "                den += np.exp(budget * score3(data.iloc[j], i) / (2 * sense))\n",
    "            row.append(num / den)\n",
    "        probs.append(row)\n",
    "        \n",
    "    for i in probs:\n",
    "        pk.append(np.sum(prob) / np.sum(probs))\n",
    "\n",
    "    for i in range(0, 3):\n",
    "        is_valid = False\n",
    "        while(not is_valid):\n",
    "            reg = stats.rv_discrete(name='dist', values=(k, pk)).rvs()\n",
    "            if(out[reg] not in rand):\n",
    "                rand.append(out[reg])\n",
    "                valido = True\n",
    "    return rand"
   ]
  },
  {
   "cell_type": "markdown",
   "metadata": {},
   "source": [
    "# Execução"
   ]
  },
  {
   "cell_type": "code",
   "execution_count": null,
   "metadata": {},
   "outputs": [],
   "source": [
    "sense1 = sense_q1(data)\n",
    "\n",
    "queries = [consulta1, consulta2, consulta3]\n",
    "rand_queries = [rand_q1, rand_q2, rand_q3]\n",
    "senses = [sense1, sense1, sense_q3(data)]\n",
    "\n",
    "def dp_exponential(budgets, res, senses):\n",
    "    res_data = []\n",
    "    for i in range(0, len(budgets)):\n",
    "        reg = [budgets[i]]\n",
    "        for j in range(0, len(res[i])):\n",
    "            reg.append(res[i][j])\n",
    "        for k in range(0, len(senses)):\n",
    "            reg.append(senses[k])\n",
    "        res_data.append(reg)\n",
    "    res_data = pd.DataFrame(res_data, columns=['budget', 'result_q1', 'result_q2', 'result_q3', 'sens_q1', 'sens_q2', 'sens_q3'])\n",
    "    res_data.to_csv(r'saida/result.csv', index=False)\n",
    "    print(\"Arquivo CSV gerado!\")\n",
    "    \n",
    "def responses(data, senses, budgets, rand_list):\n",
    "    result = []\n",
    "    for i in budgets:\n",
    "        res = []\n",
    "        for j in range(0, len(rand_list)):\n",
    "            q = rand_list[j](i, senses[j], data)\n",
    "            res.append(q)\n",
    "        result.append(res)\n",
    "    return result\n",
    "            \n",
    "total_results = responses(data, senses, budgets, rand_queries)  "
   ]
  },
  {
   "cell_type": "code",
   "execution_count": null,
   "metadata": {},
   "outputs": [],
   "source": [
    "dp_exponential(budgets, total_results, senses)"
   ]
  },
  {
   "cell_type": "code",
   "execution_count": null,
   "metadata": {},
   "outputs": [],
   "source": []
  }
 ],
 "metadata": {
  "kernelspec": {
   "display_name": "Python 3",
   "language": "python",
   "name": "python3"
  },
  "language_info": {
   "codemirror_mode": {
    "name": "ipython",
    "version": 3
   },
   "file_extension": ".py",
   "mimetype": "text/x-python",
   "name": "python",
   "nbconvert_exporter": "python",
   "pygments_lexer": "ipython3",
   "version": "3.7.4"
  }
 },
 "nbformat": 4,
 "nbformat_minor": 2
}
