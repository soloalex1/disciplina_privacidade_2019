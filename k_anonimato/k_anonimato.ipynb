{
 "cells": [
  {
   "cell_type": "code",
   "execution_count": 167,
   "metadata": {},
   "outputs": [],
   "source": [
    "import numpy as np\n",
    "import pandas as pd\n",
    "\n",
    "k = 2\n",
    "df = pd.read_csv('salario.csv')\n",
    "\n",
    "# removendo atributos sensíveis\n",
    "df.drop('id', axis=1, inplace=True)\n",
    "df.drop('salario', axis=1, inplace=True)\n",
    "# adicionando coluna localização\n",
    "df.insert(0, 'localizacao', '*')\n",
    "\n",
    "freq_pais = df[\"pais\"].value_counts()\n",
    "freq_estado = df[\"estado\"].value_counts()\n",
    "freq_cidade = df[\"cidade\"].value_counts()\n",
    "freq_data = df[\"data\"].value_counts()\n",
    "\n",
    "# generalizando localização\n",
    "for i in df.index:\n",
    "    c = df.at[i, 'cidade']\n",
    "    e = df.at[i, 'estado']\n",
    "    p = df.at[i, 'pais']\n",
    "    if (freq_cidade.loc[c] < k):\n",
    "        df.at[i, 'cidade'] = '*'\n",
    "        if(freq_estado.loc[e] < k):\n",
    "            df.at[i, 'estado'] = '*'\n",
    "            if(freq_pais.loc[p] < k):\n",
    "                df.at[i, 'localizacao'] = '*'\n",
    "            else: df.at[i, 'localizacao'] = p\n",
    "        else: df.at[i, 'localizacao'] = e + ', ' + p\n",
    "    else: df.at[i, 'localizacao'] = c + ', ' + e + ', ' + p\n",
    "        \n",
    "#removendo colunas extras: cidade, estado e país\n",
    "df.drop('cidade', axis=1, inplace=True)\n",
    "df.drop('estado', axis=1, inplace=True)\n",
    "df.drop('pais', axis=1, inplace=True)\n",
    "\n",
    "# verificando classes de equivalência para data: suprimindo dia\n",
    "for i in df.index:\n",
    "    d = df.at[i, 'data']\n",
    "    aux = d.split('/')\n",
    "    if (freq_data.loc[d] < k):\n",
    "        aux[0] = '**'\n",
    "    new_aux = aux[0] + '/' + aux[1] + '/' + aux[2]\n",
    "    df.at[i, 'data'] = new_aux\n",
    "\n",
    "freq_data = df[\"data\"].value_counts()\n",
    "# verificando classes de equivalência para data: suprimindo mês\n",
    "for i in df.index:\n",
    "    d = df.at[i, 'data']\n",
    "    aux = d.split('/')\n",
    "    if (freq_data.loc[d] < k):\n",
    "        aux[1] = '**'\n",
    "    new_aux = aux[0] + '/' + aux[1] + '/' + aux[2]\n",
    "    df.at[i, 'data'] = new_aux\n",
    "    \n",
    "freq_data = df[\"data\"].value_counts()\n",
    "# verificando classes de equivalência para data: suprimindo ano\n",
    "for i in df.index:\n",
    "    d = df.at[i, 'data']\n",
    "    aux = d.split('/')\n",
    "    if (freq_data.loc[d] < k):\n",
    "        aux[2] = '****'\n",
    "    new_aux = aux[0] + '/' + aux[1] + '/' + aux[2]\n",
    "    df.at[i, 'data'] = new_aux\n",
    "    \n",
    "freq_data = df[\"data\"].value_counts\n",
    "\n",
    "\n",
    "export_csv = df.to_csv(r'salario_2.csv', index=None, header=True)\n"
   ]
  },
  {
   "cell_type": "code",
   "execution_count": null,
   "metadata": {},
   "outputs": [],
   "source": []
  },
  {
   "cell_type": "code",
   "execution_count": null,
   "metadata": {},
   "outputs": [],
   "source": []
  },
  {
   "cell_type": "code",
   "execution_count": null,
   "metadata": {},
   "outputs": [],
   "source": []
  },
  {
   "cell_type": "code",
   "execution_count": null,
   "metadata": {},
   "outputs": [],
   "source": []
  },
  {
   "cell_type": "code",
   "execution_count": null,
   "metadata": {},
   "outputs": [],
   "source": []
  }
 ],
 "metadata": {
  "kernelspec": {
   "display_name": "Python 3",
   "language": "python",
   "name": "python3"
  },
  "language_info": {
   "codemirror_mode": {
    "name": "ipython",
    "version": 3
   },
   "file_extension": ".py",
   "mimetype": "text/x-python",
   "name": "python",
   "nbconvert_exporter": "python",
   "pygments_lexer": "ipython3",
   "version": "3.7.1"
  }
 },
 "nbformat": 4,
 "nbformat_minor": 1
}
