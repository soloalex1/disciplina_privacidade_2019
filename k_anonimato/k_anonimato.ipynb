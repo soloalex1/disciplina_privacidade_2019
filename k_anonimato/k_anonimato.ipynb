{
 "cells": [
  {
   "cell_type": "code",
   "execution_count": 4,
   "metadata": {},
   "outputs": [
    {
     "name": "stdout",
     "output_type": "stream",
     "text": [
      "       id           pais         estado              cidade  genero  \\\n",
      "0       1  United States        Alabama              Mobile    Male   \n",
      "1       2       Portugal          Porto                Rego    Male   \n",
      "2       3         Sweden         Kalmar            Emmaboda    Male   \n",
      "3       4         Sweden    Västmanland                Sala  Female   \n",
      "4       5         France       Bretagne           Quimperlé  Female   \n",
      "..    ...            ...            ...                 ...     ...   \n",
      "995   996         Canada   Saskatchewan             Nipawin  Female   \n",
      "996   997       Portugal     Portalegre        Santo Aleixo  Female   \n",
      "997   998         France  Île-de-France  Boissy-Saint-Léger    Male   \n",
      "998   999         France       Bretagne              Rennes    Male   \n",
      "999  1000         Mexico     Guanajuato          Lindavista  Female   \n",
      "\n",
      "           data   salario  \n",
      "0    10/01/1987  $5407.86  \n",
      "1    29/11/2007  $7833.82  \n",
      "2    23/06/1984  $5530.85  \n",
      "3    04/11/1983  $2803.76  \n",
      "4    18/11/1990  $2201.87  \n",
      "..          ...       ...  \n",
      "995  29/11/1995  $7782.63  \n",
      "996  09/02/1988  $4772.43  \n",
      "997  17/10/1990  $5004.78  \n",
      "998  23/09/1996  $5362.26  \n",
      "999  19/11/2006  $3737.37  \n",
      "\n",
      "[1000 rows x 7 columns]\n"
     ]
    }
   ],
   "source": [
    "import numpy as np\n",
    "import pandas as pd\n",
    "\n",
    "df = pd.read_csv('salario.csv')\n",
    "print(df)"
   ]
  },
  {
   "cell_type": "code",
   "execution_count": null,
   "metadata": {},
   "outputs": [],
   "source": []
  }
 ],
 "metadata": {
  "kernelspec": {
   "display_name": "Python 3",
   "language": "python",
   "name": "python3"
  },
  "language_info": {
   "codemirror_mode": {
    "name": "ipython",
    "version": 3
   },
   "file_extension": ".py",
   "mimetype": "text/x-python",
   "name": "python",
   "nbconvert_exporter": "python",
   "pygments_lexer": "ipython3",
   "version": "3.7.1"
  }
 },
 "nbformat": 4,
 "nbformat_minor": 1
}
