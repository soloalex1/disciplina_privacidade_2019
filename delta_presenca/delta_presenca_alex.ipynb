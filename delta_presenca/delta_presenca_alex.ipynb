{
 "cells": [
  {
   "cell_type": "markdown",
   "metadata": {},
   "source": [
    "# Pré-processamento"
   ]
  },
  {
   "cell_type": "code",
   "execution_count": 19,
   "metadata": {},
   "outputs": [
    {
     "data": {
      "text/html": [
       "<div>\n",
       "<style scoped>\n",
       "    .dataframe tbody tr th:only-of-type {\n",
       "        vertical-align: middle;\n",
       "    }\n",
       "\n",
       "    .dataframe tbody tr th {\n",
       "        vertical-align: top;\n",
       "    }\n",
       "\n",
       "    .dataframe thead th {\n",
       "        text-align: right;\n",
       "    }\n",
       "</style>\n",
       "<table border=\"1\" class=\"dataframe\">\n",
       "  <thead>\n",
       "    <tr style=\"text-align: right;\">\n",
       "      <th></th>\n",
       "      <th>localizacao</th>\n",
       "      <th>genero</th>\n",
       "      <th>data</th>\n",
       "      <th>doenca</th>\n",
       "    </tr>\n",
       "  </thead>\n",
       "  <tbody>\n",
       "    <tr>\n",
       "      <td>0</td>\n",
       "      <td>[Brooklyn, New York]</td>\n",
       "      <td>0</td>\n",
       "      <td>[31, 01, 2000]</td>\n",
       "      <td>Virose</td>\n",
       "    </tr>\n",
       "    <tr>\n",
       "      <td>1</td>\n",
       "      <td>[Topeka, Kansas]</td>\n",
       "      <td>0</td>\n",
       "      <td>[16, 10, 1999]</td>\n",
       "      <td>Zika</td>\n",
       "    </tr>\n",
       "    <tr>\n",
       "      <td>2</td>\n",
       "      <td>[Schenectady, New York]</td>\n",
       "      <td>0</td>\n",
       "      <td>[10, 10, 1999]</td>\n",
       "      <td>Virose</td>\n",
       "    </tr>\n",
       "    <tr>\n",
       "      <td>3</td>\n",
       "      <td>[New York City, New York]</td>\n",
       "      <td>0</td>\n",
       "      <td>[09, 01, 2000]</td>\n",
       "      <td>Conjuntivite</td>\n",
       "    </tr>\n",
       "    <tr>\n",
       "      <td>4</td>\n",
       "      <td>[Syracuse, New York]</td>\n",
       "      <td>1</td>\n",
       "      <td>[03, 11, 1999]</td>\n",
       "      <td>Conjuntivite</td>\n",
       "    </tr>\n",
       "  </tbody>\n",
       "</table>\n",
       "</div>"
      ],
      "text/plain": [
       "                 localizacao genero            data        doenca\n",
       "0       [Brooklyn, New York]      0  [31, 01, 2000]        Virose\n",
       "1           [Topeka, Kansas]      0  [16, 10, 1999]          Zika\n",
       "2    [Schenectady, New York]      0  [10, 10, 1999]        Virose\n",
       "3  [New York City, New York]      0  [09, 01, 2000]  Conjuntivite\n",
       "4       [Syracuse, New York]      1  [03, 11, 1999]  Conjuntivite"
      ]
     },
     "execution_count": 19,
     "metadata": {},
     "output_type": "execute_result"
    }
   ],
   "source": [
    "import numpy as np\n",
    "import pandas as pd\n",
    "\n",
    "# delta\n",
    "d = 10\n",
    "\n",
    "# importando arquivos\n",
    "doencas = pd.read_csv(\"dados/doencas.csv\")\n",
    "bg = pd.read_csv(\"dados/background.csv\")\n",
    "\n",
    "def preprocess(data):\n",
    "    new_data = data.copy()\n",
    "    \n",
    "    # removendo atributo identificador\n",
    "    new_data.drop('id', axis=1, inplace=True)\n",
    "    \n",
    "    # generalizando localização e gênero, e tratando a data\n",
    "    anon_local(new_data)\n",
    "    anon_genero(new_data)\n",
    "    anon_date(new_data)\n",
    "    \n",
    "    return new_data\n",
    "\n",
    "def preprocess_back(data):\n",
    "    new_data = data.copy()\n",
    "    \n",
    "    anon_local(new_data)\n",
    "    anon_date(new_data)\n",
    "    \n",
    "    new_data.reindex(columns=['nome', 'data', 'genero', 'localizacao'])\n",
    "    \n",
    "    return new_data\n",
    "\n",
    "doencas = preprocess(doencas)\n",
    "bg = preprocess_back(bg)\n",
    "\n",
    "doencas.head()\n",
    "# bg.head()"
   ]
  },
  {
   "cell_type": "markdown",
   "metadata": {},
   "source": [
    "# Funções de anonimização"
   ]
  },
  {
   "cell_type": "markdown",
   "metadata": {},
   "source": [
    "## Anonimizando gênero"
   ]
  },
  {
   "cell_type": "code",
   "execution_count": 6,
   "metadata": {},
   "outputs": [],
   "source": [
    "def anon_genero(data):\n",
    "    for i in data.index:\n",
    "        if(data.at[i, 'genero'] == 'Female'):\n",
    "            data.at[i, 'genero'] = 0\n",
    "        else:\n",
    "            data.at[i, 'genero'] = 1\n"
   ]
  },
  {
   "cell_type": "markdown",
   "metadata": {},
   "source": [
    "## Anonimizando localização"
   ]
  },
  {
   "cell_type": "code",
   "execution_count": 4,
   "metadata": {},
   "outputs": [],
   "source": [
    "def anon_local(data):\n",
    "    data.insert(0, 'localizacao', '*')\n",
    "    for i in data.index:\n",
    "        cid = data.at[i, 'cidade']\n",
    "        est = data.at[i, 'estado']\n",
    "        \n",
    "        data.at[i, 'localizacao'] = [cid, est]\n",
    "    data.drop(['cidade', 'estado'], axis=1, inplace=True)"
   ]
  },
  {
   "cell_type": "markdown",
   "metadata": {},
   "source": [
    "## Separando data"
   ]
  },
  {
   "cell_type": "code",
   "execution_count": 1,
   "metadata": {
    "scrolled": true
   },
   "outputs": [],
   "source": [
    "def anon_date(data):\n",
    "    for i in data.index:\n",
    "        data.at[i, 'data'] = data.at[i, 'data'].split('/')"
   ]
  },
  {
   "cell_type": "markdown",
   "metadata": {},
   "source": [
    "## "
   ]
  },
  {
   "cell_type": "markdown",
   "metadata": {},
   "source": [
    "## Exportando dataset"
   ]
  },
  {
   "cell_type": "code",
   "execution_count": 8,
   "metadata": {
    "scrolled": true
   },
   "outputs": [],
   "source": [
    "export_csv = doencas.to_csv(r'saida/doencas_' + str(d) + '.csv', index=None, header=True)"
   ]
  },
  {
   "cell_type": "code",
   "execution_count": null,
   "metadata": {},
   "outputs": [],
   "source": []
  }
 ],
 "metadata": {
  "kernelspec": {
   "display_name": "Python 3",
   "language": "python",
   "name": "python3"
  },
  "language_info": {
   "codemirror_mode": {
    "name": "ipython",
    "version": 3
   },
   "file_extension": ".py",
   "mimetype": "text/x-python",
   "name": "python",
   "nbconvert_exporter": "python",
   "pygments_lexer": "ipython3",
   "version": "3.7.4"
  }
 },
 "nbformat": 4,
 "nbformat_minor": 2
}
