{
 "cells": [
  {
   "cell_type": "markdown",
   "metadata": {},
   "source": [
    "# Pré-processamento"
   ]
  },
  {
   "cell_type": "code",
   "execution_count": 21,
   "metadata": {},
   "outputs": [
    {
     "data": {
      "text/html": [
       "<div>\n",
       "<style scoped>\n",
       "    .dataframe tbody tr th:only-of-type {\n",
       "        vertical-align: middle;\n",
       "    }\n",
       "\n",
       "    .dataframe tbody tr th {\n",
       "        vertical-align: top;\n",
       "    }\n",
       "\n",
       "    .dataframe thead th {\n",
       "        text-align: right;\n",
       "    }\n",
       "</style>\n",
       "<table border=\"1\" class=\"dataframe\">\n",
       "  <thead>\n",
       "    <tr style=\"text-align: right;\">\n",
       "      <th></th>\n",
       "      <th>localizacao</th>\n",
       "      <th>genero</th>\n",
       "      <th>data</th>\n",
       "      <th>doenca</th>\n",
       "    </tr>\n",
       "  </thead>\n",
       "  <tbody>\n",
       "    <tr>\n",
       "      <td>0</td>\n",
       "      <td>*****, New York</td>\n",
       "      <td>0</td>\n",
       "      <td>**/**/2000</td>\n",
       "      <td>Virose</td>\n",
       "    </tr>\n",
       "    <tr>\n",
       "      <td>1</td>\n",
       "      <td>*****, Kansas</td>\n",
       "      <td>0</td>\n",
       "      <td>**/**/1999</td>\n",
       "      <td>Zika</td>\n",
       "    </tr>\n",
       "    <tr>\n",
       "      <td>2</td>\n",
       "      <td>*****, New York</td>\n",
       "      <td>0</td>\n",
       "      <td>**/**/1999</td>\n",
       "      <td>Virose</td>\n",
       "    </tr>\n",
       "    <tr>\n",
       "      <td>3</td>\n",
       "      <td>*****, New York</td>\n",
       "      <td>0</td>\n",
       "      <td>**/**/2000</td>\n",
       "      <td>Conjuntivite</td>\n",
       "    </tr>\n",
       "    <tr>\n",
       "      <td>4</td>\n",
       "      <td>*****, New York</td>\n",
       "      <td>1</td>\n",
       "      <td>**/**/1999</td>\n",
       "      <td>Conjuntivite</td>\n",
       "    </tr>\n",
       "  </tbody>\n",
       "</table>\n",
       "</div>"
      ],
      "text/plain": [
       "       localizacao genero        data        doenca\n",
       "0  *****, New York      0  **/**/2000        Virose\n",
       "1    *****, Kansas      0  **/**/1999          Zika\n",
       "2  *****, New York      0  **/**/1999        Virose\n",
       "3  *****, New York      0  **/**/2000  Conjuntivite\n",
       "4  *****, New York      1  **/**/1999  Conjuntivite"
      ]
     },
     "execution_count": 21,
     "metadata": {},
     "output_type": "execute_result"
    }
   ],
   "source": [
    "import numpy as np\n",
    "import pandas as pd\n",
    "\n",
    "d = 10\n",
    "hierarquias = [3, 1, 2]\n",
    "\n",
    "# importando arquivos\n",
    "doencas = pd.read_csv(\"dados/doencas.csv\")\n",
    "bg = pd.read_csv(\"dados/background.csv\")\n",
    "\n",
    "# anonimizando gênero, local e tratando data\n",
    "def anon_genero(data):\n",
    "    for i in data.index:\n",
    "        if(data.at[i, 'genero'] == 'Female'):\n",
    "            data.at[i, 'genero'] = 0\n",
    "        else:\n",
    "            data.at[i, 'genero'] = 1\n",
    "                    \n",
    "def anon_date(data, nivel):\n",
    "    for i in data.index:\n",
    "        data.at[i, 'data'] = data.at[i, 'data'].split('/')\n",
    "        if(nivel == 1):\n",
    "            data.at[i, 'data'][0] = '**'\n",
    "        elif(nivel == 2):\n",
    "            data.at[i, 'data'][1] = '**'\n",
    "            data.at[i, 'data'][0] = '**'\n",
    "        elif(nivel == 3):\n",
    "            data.at[i, 'data'][2] = '****'\n",
    "            data.at[i, 'data'][1] = '**'\n",
    "            data.at[i, 'data'][0] = '**'\n",
    "        \n",
    "def anon_local(data, nivel):\n",
    "    data.insert(0, 'localizacao', '*')\n",
    "    for i in data.index:\n",
    "        cid = data.at[i, 'cidade']\n",
    "        est = data.at[i, 'estado']\n",
    "        if(nivel == 1):\n",
    "            cid = '*****'\n",
    "        elif(nivel == 2):\n",
    "            est = '*****'\n",
    "        \n",
    "        data.at[i, 'localizacao'] = [cid, est]\n",
    "    data.drop(['cidade', 'estado'], axis=1, inplace=True)\n",
    "    \n",
    "def preprocess(data):\n",
    "    new_data = data.copy()\n",
    "    \n",
    "    # removendo atributo identificador\n",
    "    new_data.drop('id', axis=1, inplace=True)\n",
    "    \n",
    "    # generalizando localização e gênero, e tratando a data\n",
    "    anon_local(new_data, 1)\n",
    "    anon_genero(new_data)\n",
    "    anon_date(new_data, 2)\n",
    "    \n",
    "    return new_data\n",
    "\n",
    "doencas = preprocess(doencas)\n",
    "\n",
    "doencas.head()"
   ]
  },
  {
   "cell_type": "markdown",
   "metadata": {},
   "source": [
    "## Verificando delta"
   ]
  },
  {
   "cell_type": "code",
   "execution_count": 17,
   "metadata": {},
   "outputs": [],
   "source": [
    "def get_delta(data, bg, delta):\n",
    "    \n",
    "    # criando arrays de contadores e registros pra cada dataset\n",
    "    data_registros = []\n",
    "    data_cont = []\n",
    "    bg_registros = []\n",
    "    bg_cont = []\n",
    "    \n",
    "    for i in data:\n",
    "        reg = [i[1], i[2], i[3]]\n",
    "        cont = 1\n",
    "        if(reg not in data_registros):\n",
    "            data_registros.append(reg)\n",
    "            data_cont.append(cont)\n",
    "        else:\n",
    "            for j in range(0, len(data_registros)):\n",
    "                if(reg == data_registros[j]):\n",
    "                    data_cont += 1\n",
    "\n",
    "    for i in bg:\n",
    "        reg = [i[1], i[2], i[3]]\n",
    "        cont = 1\n",
    "        if(reg not in bg_registros):\n",
    "            bg_registros.append(reg)\n",
    "            bg_cont.append(cont)\n",
    "        else:\n",
    "            for j in range(0, len(bg_registros)):\n",
    "                if(reg == bg_registros[j]):\n",
    "                    bg_cont[j] += 1\n",
    "                    \n",
    "    for i in range(0, len(bg)):\n",
    "        if(data_registros[0] == bg_registros[i]):\n",
    "            min = data_cont[0] / bg_cont[i]\n",
    "            max = data_cont[0] / bg_cont[i] \n",
    "            \n",
    "    for i in range(0, len(data_cont)):\n",
    "        for j in range(0, len(bg_cont)):\n",
    "            if(data_registros[i] == bg_registros[j]):\n",
    "                prob = data_cont[i] / bg_cont[j]\n",
    "                if(prob <= min):\n",
    "                    min = prob\n",
    "                else:\n",
    "                    max = prob\n",
    "    \n",
    "    return (min >= delta[0] and max <= delta[1])\n"
   ]
  },
  {
   "cell_type": "markdown",
   "metadata": {},
   "source": [
    "# # Função de delta-presença"
   ]
  },
  {
   "cell_type": "code",
   "execution_count": null,
   "metadata": {},
   "outputs": [],
   "source": [
    "def delta_presenca(data, bg):\n",
    "    \n",
    "    "
   ]
  },
  {
   "cell_type": "markdown",
   "metadata": {},
   "source": [
    "## Exportando dataset"
   ]
  },
  {
   "cell_type": "code",
   "execution_count": null,
   "metadata": {
    "scrolled": true
   },
   "outputs": [],
   "source": [
    "export_csv = doencas.to_csv(r'saida/doencas_' + str(d) + '.csv', index=None, header=True)"
   ]
  }
 ],
 "metadata": {
  "kernelspec": {
   "display_name": "Python 3",
   "language": "python",
   "name": "python3"
  },
  "language_info": {
   "codemirror_mode": {
    "name": "ipython",
    "version": 3
   },
   "file_extension": ".py",
   "mimetype": "text/x-python",
   "name": "python",
   "nbconvert_exporter": "python",
   "pygments_lexer": "ipython3",
   "version": "3.7.4"
  }
 },
 "nbformat": 4,
 "nbformat_minor": 2
}
