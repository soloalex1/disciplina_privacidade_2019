{
 "cells": [
  {
   "cell_type": "markdown",
   "metadata": {},
   "source": [
    "# Pré-processamento:"
   ]
  },
  {
   "cell_type": "code",
   "execution_count": 1,
   "metadata": {},
   "outputs": [],
   "source": [
    "import pandas as pd"
   ]
  },
  {
   "cell_type": "markdown",
   "metadata": {},
   "source": [
    "### Níveis de generalização\n",
    "\n",
    "niveis é um array que indica os níveis de generalização dos atributos:\n",
    "<br>**níveis: [genero, localizacao, data]**\n",
    "\n",
    "Cada atributo possui os seguintes níveis:\n",
    "<ul>\n",
    "<li>genero: {0, 1}\n",
    "<li>localizacao: {0, 1, 2}\n",
    "<li>data: {0, 1, 2, 3}\n",
    "</ul>"
   ]
  },
  {
   "cell_type": "code",
   "execution_count": 2,
   "metadata": {},
   "outputs": [],
   "source": [
    "def get_niveis():\n",
    "    niveis = [[0, 0, 0], [1, 0, 0], [0, 1, 0], [0, 0, 1],\n",
    "              [1, 1, 0], [1, 0, 1], [0, 2, 0], [0, 1, 1], [0, 0, 2],\n",
    "              [1, 2, 0], [1, 1, 1], [1, 0, 2], [0, 2, 1], [0, 1, 2], [0, 0, 3],\n",
    "              [1, 2, 1], [1, 1, 2], [1, 0, 3], [0, 2, 2], [0, 1, 3],\n",
    "              [1, 2, 2], [1, 1, 3], [0, 2, 3],\n",
    "              [1, 2, 3]]\n",
    "    return niveis"
   ]
  },
  {
   "cell_type": "markdown",
   "metadata": {},
   "source": [
    "## Função de Supressão\n",
    "### Suprime atributos do dataset de acordo com os níveis de generalização especificados "
   ]
  },
  {
   "cell_type": "code",
   "execution_count": 3,
   "metadata": {},
   "outputs": [],
   "source": [
    "def supress(df, niveis):\n",
    "    # suprimindo genero\n",
    "    if niveis[0] == 1:\n",
    "        for i in df.index:\n",
    "            df.at[i, 'genero'] = '**'\n",
    "    \n",
    "    # suprimindo localizacao\n",
    "    if niveis[1] == 1:\n",
    "        for i in df.index:\n",
    "            df.at[i, 'cidade'] = '**'\n",
    "    elif niveis[1]== 2:\n",
    "        for i in df.index:\n",
    "            df.at[i, 'cidade'] = '**'\n",
    "            df.at[i, 'estado'] = '**'\n",
    "            \n",
    "    # suprimindo data\n",
    "    if niveis[2] == 1:\n",
    "        for i in df.index:\n",
    "            aux = df.at[i, 'data'].split('/')\n",
    "            aux[0] = '**'\n",
    "            df.at[i, 'data'] = '/'.join(aux)\n",
    "    elif niveis[2] == 2:\n",
    "        for i in df.index:\n",
    "            aux = df.at[i, 'data'].split('/')\n",
    "            aux[0] = '**'\n",
    "            aux[1] = '**'\n",
    "            df.at[i, 'data'] = '/'.join(aux)\n",
    "    elif niveis[2] == 3:\n",
    "        for i in df.index:\n",
    "            aux = df.at[i, 'data'].split('/')\n",
    "            aux[0] = '**'\n",
    "            aux[1] = '**'\n",
    "            aux[2] = '**'\n",
    "            df.at[i, 'data'] = '/'.join(aux)\n",
    "            \n",
    "    return df"
   ]
  },
  {
   "cell_type": "markdown",
   "metadata": {},
   "source": [
    "<hr>"
   ]
  },
  {
   "cell_type": "markdown",
   "metadata": {},
   "source": [
    "# Main:"
   ]
  },
  {
   "cell_type": "code",
   "execution_count": 4,
   "metadata": {},
   "outputs": [],
   "source": [
    "dados = pd.read_csv('dados/doencas.csv')\n",
    "bg = pd.read_csv('dados/background.csv')\n",
    "\n",
    "\n",
    "# Reorganizando colunas dos datasets\n",
    "dados = dados[['genero', 'cidade', 'estado', 'data', 'doenca']]\n",
    "bg = bg[['genero', 'cidade', 'estado', 'data', 'nome']]\n",
    "\n",
    "niveis = get_niveis()"
   ]
  },
  {
   "cell_type": "code",
   "execution_count": 5,
   "metadata": {},
   "outputs": [
    {
     "ename": "IndentationError",
     "evalue": "expected an indented block (<ipython-input-5-18bbf877782f>, line 42)",
     "traceback": [
      "\u001b[0;36m  File \u001b[0;32m\"<ipython-input-5-18bbf877782f>\"\u001b[0;36m, line \u001b[0;32m42\u001b[0m\n\u001b[0;31m    export_csv = df_final.to_csv(r'doencas_' + str(d) + '.csv', index=None, header=True)\u001b[0m\n\u001b[0m                                                                                        ^\u001b[0m\n\u001b[0;31mIndentationError\u001b[0m\u001b[0;31m:\u001b[0m expected an indented block\n"
     ],
     "output_type": "error"
    }
   ],
   "source": [
    "d = 40\n",
    "d_min = 0.1\n",
    "d_max = 0.5\n",
    "\n",
    "precisao = -1\n",
    "df_final = dados\n",
    "\n",
    "for nivel in niveis:\n",
    "    deu_ruim = 0\n",
    "    df = dados.copy()\n",
    "    df = supress(df, nivel)\n",
    "    \n",
    "    aux_bg = bg.copy()\n",
    "    aux_bg = supress(aux_bg, nivel)\n",
    "    \n",
    "    groups = df.groupby(['genero', 'cidade', 'estado', 'data'])\n",
    "    groups_bg = aux_bg.groupby(['genero', 'cidade', 'estado', 'data'])\n",
    "    \n",
    "    for name_data, group_data in groups:\n",
    "        delta = 0\n",
    "        size_data = len(group_data)\n",
    "        \n",
    "        for name_bg, group_bg in groups_bg:\n",
    "            if name_data == name_bg:    # procura grupo de bg correspondente\n",
    "                size_bg = len(group_bg)\n",
    "                delta = size_data / size_bg\n",
    "                break    # sai do laço dos grupos do bg\n",
    "                \n",
    "        if (delta < d_min) or (delta > d_max): \n",
    "            deu_ruim = 1\n",
    "            break    # delta fora do intervalo, sai do laço dos grupos do dataset\n",
    "        else: continue     # delta dentro do intervalo, passa para próximo grupo\n",
    "            \n",
    "    if deu_ruim: continue    # pula pro póximo nível de generalização\n",
    "    else:\n",
    "        # calcula nova precisão para df\n",
    "        # compara com precisão atual\n",
    "        # se melhor:\n",
    "            # df_final = df    # dataser final recebe df com anonimização atual\n",
    "            \n",
    "# ao final de tudo, grava df_final em um arquivo:\n",
    "export_csv = df_final.to_csv(r'doencas_' + str(d) + '.csv', index=None, header=True)\n",
    "        "
   ]
  },
  {
   "cell_type": "code",
   "execution_count": 24,
   "metadata": {},
   "outputs": [
    {
     "name": "stdout",
     "output_type": "stream",
     "text": [
      "nomes iguais! ('Female', '**/**/1999', '**', 'Kansas')\n",
      "0.23469387755102042\n",
      "nomes iguais! ('Female', '**/**/1999', '**', 'New York')\n",
      "0.20512820512820512\n",
      "nomes iguais! ('Female', '**/**/2000', '**', 'Kansas')\n",
      "0.11235955056179775\n",
      "nomes iguais! ('Female', '**/**/2000', '**', 'New York')\n",
      "0.21227621483375958\n",
      "nomes iguais! ('Male', '**/**/1999', '**', 'Kansas')\n",
      "0.11627906976744186\n",
      "nomes iguais! ('Male', '**/**/1999', '**', 'New York')\n",
      "0.21171171171171171\n",
      "nomes iguais! ('Male', '**/**/2000', '**', 'Kansas')\n",
      "0.21839080459770116\n",
      "nomes iguais! ('Male', '**/**/2000', '**', 'New York')\n",
      "0.19518072289156627\n"
     ]
    }
   ],
   "source": [
    "df = dados.copy()\n",
    "df = supress(df, [0,1,2])\n",
    "bg2 = bg.copy()\n",
    "bg2 = supress(bg2, [0, 1, 2])\n",
    "aux = df.groupby(['genero', 'data', 'cidade', 'estado'])\n",
    "aux2 = bg2.groupby(['genero', 'data', 'cidade', 'estado'])\n",
    "# df.head()\n",
    "# print(aux.groups)\n",
    "\n",
    "for name, group in aux:\n",
    "    for name2,group2 in aux2:\n",
    "        if name == name2: \n",
    "            print('nomes iguais! ' + str(name))\n",
    "            d = len(group) / len(group2)\n",
    "            print(d)\n",
    "#     print (name)\n",
    "#     print(group)\n",
    "#     size = len(group)\n",
    "#     print (size)\n",
    "\n",
    "\n"
   ]
  },
  {
   "cell_type": "code",
   "execution_count": null,
   "metadata": {},
   "outputs": [],
   "source": []
  }
 ],
 "metadata": {
  "kernelspec": {
   "display_name": "Python 3",
   "language": "python",
   "name": "python3"
  },
  "language_info": {
   "codemirror_mode": {
    "name": "ipython",
    "version": 3
   },
   "file_extension": ".py",
   "mimetype": "text/x-python",
   "name": "python",
   "nbconvert_exporter": "python",
   "pygments_lexer": "ipython3",
   "version": "3.7.1"
  }
 },
 "nbformat": 4,
 "nbformat_minor": 2
}
