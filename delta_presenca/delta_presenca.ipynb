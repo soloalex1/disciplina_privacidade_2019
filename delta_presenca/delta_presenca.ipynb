{
 "cells": [
  {
   "cell_type": "markdown",
   "metadata": {},
   "source": [
    "# Pré-processamento"
   ]
  },
  {
   "cell_type": "code",
   "execution_count": 16,
   "metadata": {},
   "outputs": [],
   "source": [
    "import numpy as np\n",
    "import pandas as pd\n",
    "\n",
    "doencas = pd.read_csv(\"dados/doencas.csv\")\n",
    "bg = pd.read_csv(\"dados/background.csv\")\n",
    "\n",
    "# removendo atributos sensíveis\n",
    "doencas.drop(['id', 'doenca'], axis=1, inplace=True)\n",
    "\n",
    "# inserindo coluna para generalizar localização\n",
    "doencas.insert(0, 'localizacao', '*')\n",
    "\n",
    "# doencas.head()\n",
    "# bg.head()"
   ]
  },
  {
   "cell_type": "markdown",
   "metadata": {},
   "source": [
    "# Funções de anonimização"
   ]
  },
  {
   "cell_type": "markdown",
   "metadata": {},
   "source": [
    "## Anonimizando gênero"
   ]
  },
  {
   "cell_type": "code",
   "execution_count": 12,
   "metadata": {},
   "outputs": [
    {
     "data": {
      "text/html": [
       "<div>\n",
       "<style scoped>\n",
       "    .dataframe tbody tr th:only-of-type {\n",
       "        vertical-align: middle;\n",
       "    }\n",
       "\n",
       "    .dataframe tbody tr th {\n",
       "        vertical-align: top;\n",
       "    }\n",
       "\n",
       "    .dataframe thead th {\n",
       "        text-align: right;\n",
       "    }\n",
       "</style>\n",
       "<table border=\"1\" class=\"dataframe\">\n",
       "  <thead>\n",
       "    <tr style=\"text-align: right;\">\n",
       "      <th></th>\n",
       "      <th>genero</th>\n",
       "      <th>data</th>\n",
       "      <th>cidade</th>\n",
       "      <th>estado</th>\n",
       "    </tr>\n",
       "  </thead>\n",
       "  <tbody>\n",
       "    <tr>\n",
       "      <td>0</td>\n",
       "      <td>0</td>\n",
       "      <td>31/01/2000</td>\n",
       "      <td>Brooklyn</td>\n",
       "      <td>New York</td>\n",
       "    </tr>\n",
       "    <tr>\n",
       "      <td>1</td>\n",
       "      <td>0</td>\n",
       "      <td>16/10/1999</td>\n",
       "      <td>Topeka</td>\n",
       "      <td>Kansas</td>\n",
       "    </tr>\n",
       "    <tr>\n",
       "      <td>2</td>\n",
       "      <td>0</td>\n",
       "      <td>10/10/1999</td>\n",
       "      <td>Schenectady</td>\n",
       "      <td>New York</td>\n",
       "    </tr>\n",
       "    <tr>\n",
       "      <td>3</td>\n",
       "      <td>0</td>\n",
       "      <td>09/01/2000</td>\n",
       "      <td>New York City</td>\n",
       "      <td>New York</td>\n",
       "    </tr>\n",
       "    <tr>\n",
       "      <td>4</td>\n",
       "      <td>1</td>\n",
       "      <td>03/11/1999</td>\n",
       "      <td>Syracuse</td>\n",
       "      <td>New York</td>\n",
       "    </tr>\n",
       "  </tbody>\n",
       "</table>\n",
       "</div>"
      ],
      "text/plain": [
       "  genero        data         cidade    estado\n",
       "0      0  31/01/2000       Brooklyn  New York\n",
       "1      0  16/10/1999         Topeka    Kansas\n",
       "2      0  10/10/1999    Schenectady  New York\n",
       "3      0  09/01/2000  New York City  New York\n",
       "4      1  03/11/1999       Syracuse  New York"
      ]
     },
     "execution_count": 12,
     "metadata": {},
     "output_type": "execute_result"
    }
   ],
   "source": [
    "def anon_genero(data):\n",
    "    for i in data.index:\n",
    "        if(data.at[i, 'genero'] == 'Female'):\n",
    "            data.at[i, 'genero'] = 0\n",
    "        else:\n",
    "            data.at[i, 'genero'] = 1\n",
    "\n",
    "anon_genero(doencas)\n",
    "doencas.head()"
   ]
  },
  {
   "cell_type": "markdown",
   "metadata": {},
   "source": [
    "## Anonimizando localização"
   ]
  },
  {
   "cell_type": "code",
   "execution_count": 17,
   "metadata": {},
   "outputs": [
    {
     "data": {
      "text/html": [
       "<div>\n",
       "<style scoped>\n",
       "    .dataframe tbody tr th:only-of-type {\n",
       "        vertical-align: middle;\n",
       "    }\n",
       "\n",
       "    .dataframe tbody tr th {\n",
       "        vertical-align: top;\n",
       "    }\n",
       "\n",
       "    .dataframe thead th {\n",
       "        text-align: right;\n",
       "    }\n",
       "</style>\n",
       "<table border=\"1\" class=\"dataframe\">\n",
       "  <thead>\n",
       "    <tr style=\"text-align: right;\">\n",
       "      <th></th>\n",
       "      <th>localizacao</th>\n",
       "      <th>genero</th>\n",
       "      <th>data</th>\n",
       "    </tr>\n",
       "  </thead>\n",
       "  <tbody>\n",
       "    <tr>\n",
       "      <td>0</td>\n",
       "      <td>[Brooklyn, New York]</td>\n",
       "      <td>Female</td>\n",
       "      <td>31/01/2000</td>\n",
       "    </tr>\n",
       "    <tr>\n",
       "      <td>1</td>\n",
       "      <td>[Topeka, Kansas]</td>\n",
       "      <td>Female</td>\n",
       "      <td>16/10/1999</td>\n",
       "    </tr>\n",
       "    <tr>\n",
       "      <td>2</td>\n",
       "      <td>[Schenectady, New York]</td>\n",
       "      <td>Female</td>\n",
       "      <td>10/10/1999</td>\n",
       "    </tr>\n",
       "    <tr>\n",
       "      <td>3</td>\n",
       "      <td>[New York City, New York]</td>\n",
       "      <td>Female</td>\n",
       "      <td>09/01/2000</td>\n",
       "    </tr>\n",
       "    <tr>\n",
       "      <td>4</td>\n",
       "      <td>[Syracuse, New York]</td>\n",
       "      <td>Male</td>\n",
       "      <td>03/11/1999</td>\n",
       "    </tr>\n",
       "  </tbody>\n",
       "</table>\n",
       "</div>"
      ],
      "text/plain": [
       "                 localizacao  genero        data\n",
       "0       [Brooklyn, New York]  Female  31/01/2000\n",
       "1           [Topeka, Kansas]  Female  16/10/1999\n",
       "2    [Schenectady, New York]  Female  10/10/1999\n",
       "3  [New York City, New York]  Female  09/01/2000\n",
       "4       [Syracuse, New York]    Male  03/11/1999"
      ]
     },
     "execution_count": 17,
     "metadata": {},
     "output_type": "execute_result"
    }
   ],
   "source": [
    "def anon_local(data):\n",
    "    for i in data.index:\n",
    "        cid = data.at[i, 'cidade']\n",
    "        est = data.at[i, 'estado']\n",
    "        \n",
    "        data.at[i, 'localizacao'] = [cid, est]\n",
    "    data.drop(['cidade', 'estado'], axis=1, inplace=True)\n",
    "        \n",
    "anon_local(doencas)\n",
    "doencas.head()"
   ]
  },
  {
   "cell_type": "markdown",
   "metadata": {},
   "source": [
    "## Separando data"
   ]
  },
  {
   "cell_type": "code",
   "execution_count": null,
   "metadata": {},
   "outputs": [],
   "source": [
    "def anon_date(data):\n",
    "    for()"
   ]
  }
 ],
 "metadata": {
  "kernelspec": {
   "display_name": "Python 3",
   "language": "python",
   "name": "python3"
  },
  "language_info": {
   "codemirror_mode": {
    "name": "ipython",
    "version": 3
   },
   "file_extension": ".py",
   "mimetype": "text/x-python",
   "name": "python",
   "nbconvert_exporter": "python",
   "pygments_lexer": "ipython3",
   "version": "3.7.4"
  }
 },
 "nbformat": 4,
 "nbformat_minor": 2
}
